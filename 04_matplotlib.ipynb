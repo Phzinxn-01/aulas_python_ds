{
 "cells": [
  {
   "cell_type": "code",
   "execution_count": 7,
   "id": "68e75ccd-8705-4e18-b2c5-812f139a9e1d",
   "metadata": {},
   "outputs": [
    {
     "name": "stdout",
     "output_type": "stream",
     "text": [
      "primeira mensagem no jupyter\n"
     ]
    }
   ],
   "source": [
    "# comando  shift+enter -> executa a lihha selecionada\n",
    "print('primeira mensagem no jupyter')"
   ]
  },
  {
   "cell_type": "raw",
   "id": "54ccd25d-bc8e-4bfc-9688-dd071aa93f6e",
   "metadata": {},
   "source": [
    "Instalação e importação biblioteca"
   ]
  },
  {
   "cell_type": "code",
   "execution_count": null,
   "id": "6743db42-20d9-455a-878e-68b7162d4489",
   "metadata": {},
   "outputs": [],
   "source": [
    "#instalação biblioteca:\n",
    "!pip install matplotlib"
   ]
  },
  {
   "cell_type": "code",
   "execution_count": 7,
   "id": "a75ba564-8ae2-4f7e-99ce-e46b6245977f",
   "metadata": {},
   "outputs": [
    {
     "data": {
      "text/plain": [
       "[<matplotlib.lines.Line2D at 0x211d641d0d0>]"
      ]
     },
     "execution_count": 7,
     "metadata": {},
     "output_type": "execute_result"
    },
    {
     "data": {
      "image/png": "[encoded data removed]",
      "text/plain": [
       "<Figure size 640x480 with 1 Axes>"
      ]
     },
     "metadata": {},
     "output_type": "display_data"
    }
   ],
   "source": [
    "# Importação:\n",
    "import matplotlib.pyplot as plt\n",
    "# Dados para o gráfico\n",
    "x = [1,2,3,4]\n",
    "y = [28,20,25,30]\n",
    "\n",
    "# Criando um gráfico de linha\n",
    "plt.plot(x,y)"
   ]
  },
  {
   "cell_type": "code",
   "execution_count": null,
   "id": "29448851-7d2f-442d-885e-d30374670a1e",
   "metadata": {},
   "outputs": [],
   "source": [
    "eixo_x_anos = [2010, 2020, 2030, 2040]\n",
    "eixo_y_vendas = [10000, 15000, 13000, 50000]\n",
    "# Inserir o nome do gráfico\n",
    "plt.title('Vendas cursos', color = 'blue') # título gráfico\n",
    "# Inserir o nome do eixo x\n",
    "plt.xlabel('anos') # etiqueta(label) eixo x\n",
    "# Inserir o nome do eixo Y\n",
    "plt.ylabel('vendas') # etiqueta(label) eixo y\n",
    "\n",
    "# plotar gráfico\n",
    "plt.plot(eixo_x_anos, \n",
    "         eixo_y_vendas, \n",
    "         linestyle='dashed',\n",
    "         linewidth = 2, \n",
    "         color='blue',\n",
    "         marker = '*',\n",
    "         ms=15,\n",
    "         mec='red',\n",
    "         mfc='green')"
   ]
  },
  {
   "cell_type": "raw",
   "id": "ec692de1-6c05-477c-b7cd-41dedfefb62d",
   "metadata": {},
   "source": [
    "Atividade gráfico preço bitcoin:\n",
    "Utilizando o dataset disponível no Classroom, realizar a plotagem do gráfico \n",
    "entre as colunas de 'Timestamp' e 'Close'.\n",
    "\n",
    "Desafios/etapas:\n",
    "1 - importar a biblioteca pandas no Jupyter\n",
    "2 - ler o arquivo .csv\n",
    "3 - apresentar informações básicas do dataset\n",
    "4 - limpar as linhas que possuirem dados vazios\n",
    "5 - transformar a coluna 'Timestamp' para o tipo datetime\n",
    "6 - plotar o gráfico usando as colunas 'Timestamp' e 'Close'.\n",
    "7 - estilizar a o gráfico"
   ]
  },
  {
   "cell_type": "code",
   "execution_count": 1,
   "id": "cf172e3a-6ef1-443e-b419-e7162abfb87a",
   "metadata": {},
   "outputs": [],
   "source": [
    "# Etapa 1:\n",
    "import pandas as pd"
   ]
  },
  {
   "cell_type": "code",
   "execution_count": 3,
   "id": "00821c6c-86c7-44f5-936d-b682e696910f",
   "metadata": {},
   "outputs": [],
   "source": [
    "# Etapa 2:\n",
    "df = pd.read_csv('./bitcoin.csv')"
   ]
  },
  {
   "cell_type": "code",
   "execution_count": null,
   "id": "806143b1-0278-449b-aa44-a3ff10b53672",
   "metadata": {},
   "outputs": [],
   "source": [
    "# Etapa 3:\n",
    "df.head()"
   ]
  },
  {
   "cell_type": "code",
   "execution_count": null,
   "id": "6b2f211e-8b32-464e-b4ef-2b14e1bd20b8",
   "metadata": {},
   "outputs": [],
   "source": [
    "# Etapa 4:\n",
    "df = df.dropna()\n",
    "df"
   ]
  },
  {
   "cell_type": "code",
   "execution_count": 230,
   "id": "2cc451d3-db35-469c-ab7e-a8d1a9dbb973",
   "metadata": {},
   "outputs": [
    {
     "data": {
      "text/plain": [
       "dtype('<M8[ns]')"
      ]
     },
     "execution_count": 230,
     "metadata": {},
     "output_type": "execute_result"
    }
   ],
   "source": [
    "df['Timestamp'].dtypes"
   ]
  },
  {
   "cell_type": "code",
   "execution_count": 234,
   "id": "d34f69e4-71f0-4c0a-8fe7-959c5ba4b821",
   "metadata": {},
   "outputs": [
    {
     "data": {
      "text/html": [
       "<div>\n",
       "<style scoped>\n",
       "    .dataframe tbody tr th:only-of-type {\n",
       "        vertical-align: middle;\n",
       "    }\n",
       "\n",
       "    .dataframe tbody tr th {\n",
       "        vertical-align: top;\n",
       "    }\n",
       "\n",
       "    .dataframe thead th {\n",
       "        text-align: right;\n",
       "    }\n",
       "</style>\n",
       "<table border=\"1\" class=\"dataframe\">\n",
       "  <thead>\n",
       "    <tr style=\"text-align: right;\">\n",
       "      <th></th>\n",
       "      <th>Timestamp</th>\n",
       "      <th>Open</th>\n",
       "      <th>High</th>\n",
       "      <th>Low</th>\n",
       "      <th>Close</th>\n",
       "      <th>Volume_(BTC)</th>\n",
       "      <th>Volume_(Currency)</th>\n",
       "      <th>Weighted_Price</th>\n",
       "    </tr>\n",
       "  </thead>\n",
       "  <tbody>\n",
       "    <tr>\n",
       "      <th>0</th>\n",
       "      <td>1970-01-01 00:00:01.325317920</td>\n",
       "      <td>4.39</td>\n",
       "      <td>4.39</td>\n",
       "      <td>4.39</td>\n",
       "      <td>4.39</td>\n",
       "      <td>0.455581</td>\n",
       "      <td>2.000000</td>\n",
       "      <td>4.390000</td>\n",
       "    </tr>\n",
       "    <tr>\n",
       "      <th>478</th>\n",
       "      <td>1970-01-01 00:00:01.325346600</td>\n",
       "      <td>4.39</td>\n",
       "      <td>4.39</td>\n",
       "      <td>4.39</td>\n",
       "      <td>4.39</td>\n",
       "      <td>48.000000</td>\n",
       "      <td>210.720000</td>\n",
       "      <td>4.390000</td>\n",
       "    </tr>\n",
       "    <tr>\n",
       "      <th>547</th>\n",
       "      <td>1970-01-01 00:00:01.325350740</td>\n",
       "      <td>4.50</td>\n",
       "      <td>4.57</td>\n",
       "      <td>4.50</td>\n",
       "      <td>4.57</td>\n",
       "      <td>37.862297</td>\n",
       "      <td>171.380338</td>\n",
       "      <td>4.526411</td>\n",
       "    </tr>\n",
       "    <tr>\n",
       "      <th>548</th>\n",
       "      <td>1970-01-01 00:00:01.325350800</td>\n",
       "      <td>4.58</td>\n",
       "      <td>4.58</td>\n",
       "      <td>4.58</td>\n",
       "      <td>4.58</td>\n",
       "      <td>9.000000</td>\n",
       "      <td>41.220000</td>\n",
       "      <td>4.580000</td>\n",
       "    </tr>\n",
       "    <tr>\n",
       "      <th>1224</th>\n",
       "      <td>1970-01-01 00:00:01.325391360</td>\n",
       "      <td>4.58</td>\n",
       "      <td>4.58</td>\n",
       "      <td>4.58</td>\n",
       "      <td>4.58</td>\n",
       "      <td>1.502000</td>\n",
       "      <td>6.879160</td>\n",
       "      <td>4.580000</td>\n",
       "    </tr>\n",
       "  </tbody>\n",
       "</table>\n",
       "</div>"
      ],
      "text/plain": [
       "                         Timestamp  Open  High   Low  Close  Volume_(BTC)  \\\n",
       "0    1970-01-01 00:00:01.325317920  4.39  4.39  4.39   4.39      0.455581   \n",
       "478  1970-01-01 00:00:01.325346600  4.39  4.39  4.39   4.39     48.000000   \n",
       "547  1970-01-01 00:00:01.325350740  4.50  4.57  4.50   4.57     37.862297   \n",
       "548  1970-01-01 00:00:01.325350800  4.58  4.58  4.58   4.58      9.000000   \n",
       "1224 1970-01-01 00:00:01.325391360  4.58  4.58  4.58   4.58      1.502000   \n",
       "\n",
       "      Volume_(Currency)  Weighted_Price  \n",
       "0              2.000000        4.390000  \n",
       "478          210.720000        4.390000  \n",
       "547          171.380338        4.526411  \n",
       "548           41.220000        4.580000  \n",
       "1224           6.879160        4.580000  "
      ]
     },
     "execution_count": 234,
     "metadata": {},
     "output_type": "execute_result"
    }
   ],
   "source": [
    "# Etapa 5:\n",
    "df_01 = df\n",
    "df_01['Timestamp'] = pd.to_datetime(df_01['Timestamp'], unit = 's') # Converter a coluna 'Timestamp' para datetime\n",
    "df_01.head()\n"
   ]
  },
  {
   "cell_type": "code",
   "execution_count": 9,
   "id": "10e79ea9-f6f4-47d2-8be9-ed4936a70a25",
   "metadata": {},
   "outputs": [
    {
     "data": {
      "text/plain": [
       "Text(0, 0.5, 'Preço $')"
      ]
     },
     "execution_count": 9,
     "metadata": {},
     "output_type": "execute_result"
    },
    {
     "data": {
      "image/png": "[encoded data removed]",
      "text/plain": [
       "<Figure size 640x480 with 1 Axes>"
      ]
     },
     "metadata": {},
     "output_type": "display_data"
    }
   ],
   "source": [
    "# Etapa 6:\n",
    "\n",
    "eixo_x = df['Timestamp']\n",
    "eixo_y = df['Close']\n",
    "plt.plot(eixo_x, eixo_y)\n",
    "plt.title('Preço do bitcoin ao longo dos anos')\n",
    "plt.xlabel('Anos')\n",
    "plt.ylabel('Preço $')"
   ]
  },
  {
   "cell_type": "code",
   "execution_count": null,
   "id": "d3dec3de-b2c2-4a16-841f-fde4c0fe1c6e",
   "metadata": {},
   "outputs": [],
   "source": []
  }
 ],
 "metadata": {
  "kernelspec": {
   "display_name": "Python 3 (ipykernel)",
   "language": "python",
   "name": "python3"
  },
  "language_info": {
   "codemirror_mode": {
    "name": "ipython",
    "version": 3
   },
   "file_extension": ".py",
   "mimetype": "text/x-python",
   "name": "python",
   "nbconvert_exporter": "python",
   "pygments_lexer": "ipython3",
   "version": "3.12.4"
  }
 },
 "nbformat": 4,
 "nbformat_minor": 5
}
