{
 "cells": [
  {
   "cell_type": "raw",
   "id": "4fb31d1a-fbf3-46b5-9325-64a6750ae023",
   "metadata": {},
   "source": [
    " # Desafio\n",
    "Exercício: Explorando o Conjunto de Dados de Vendas de carros elétricos\n",
    "Objetivo: Utilizar a biblioteca Pandas e Matplotlib para extrair e analisar informações dos conjuntos de dados de vendas de carros elétricos. \n",
    "\n",
    "Desafios/etapas:\n",
    "\n",
    "importar a biblioteca pandas no Jupyter\n",
    "ler o arquivo .csv\n",
    "apresentar informações básicas do dataset\n",
    "limpar as linhas que possuirem dados vazios\n",
    "plotar um gráfico do tipo \"pie\" verificando a contagem de cada tipo de veículos (coluna mode).\n",
    "plotar um gráfico do tipo \"bar\" verificando as 10 primeiras regiões em quantidade de veículos."
   ]
  },
  {
   "cell_type": "code",
   "execution_count": 15,
   "id": "7fbecb93-c632-4430-a5d2-d11e598bc869",
   "metadata": {},
   "outputs": [],
   "source": [
    "import pandas as pd\n",
    "import matplotlib.pyplot as plt"
   ]
  },
  {
   "cell_type": "code",
   "execution_count": 7,
   "id": "f4410c02-ec39-464e-a047-7ea3b5534b2e",
   "metadata": {},
   "outputs": [],
   "source": [
    "df = pd.read_csv('./IEA Global EV Data 2024.csv')"
   ]
  },
  {
   "cell_type": "code",
   "execution_count": null,
   "id": "2c7f29f5-2e80-44ea-a3dd-66a4921ebf58",
   "metadata": {},
   "outputs": [],
   "source": [
    "df.head()"
   ]
  },
  {
   "cell_type": "code",
   "execution_count": null,
   "id": "8759688e-df4e-48cd-92d0-cd259181d8a9",
   "metadata": {},
   "outputs": [],
   "source": [
    "df = df.dropna()\n",
    "df"
   ]
  },
  {
   "cell_type": "code",
   "execution_count": null,
   "id": "ecc1e7ee-1403-4ebc-a2e9-261d9127118d",
   "metadata": {},
   "outputs": [],
   "source": [
    "counts = df['mode'].value_counts()\n",
    "\n",
    "plt.figure(figsize=(10, 8))\n",
    "plt.pie(counts, labels=counts.index, autopct='%1.1f%%', startangle=140)\n",
    "plt.title('Distribuição dos Tipos de Veículos no IEA Global EV Data 2024')\n",
    "plt.show()"
   ]
  },
  {
   "cell_type": "code",
   "execution_count": null,
   "id": "73349671-86e4-42e8-b6e1-8d6fa9e91f6b",
   "metadata": {},
   "outputs": [],
   "source": [
    "contagem_regioes = df['region'].value_counts()\n",
    "\n",
    "top_10_regioes = contagem_regioes.head(10)\n",
    "\n",
    "plt.figure(figsize=(10,8))\n",
    "top_10_regioes.plot(kind='bar', color='skyblue')\n",
    "plt.xlabel('Região')\n",
    "plt.ylabel('Quantidade de Veículos')\n",
    "plt.title('Top 10 Regiões com Maior Quantidade de Veículos')\n",
    "plt.xticks(rotation=45, ha='right')\n",
    "plt.show()"
   ]
  }
 ],
 "metadata": {
  "kernelspec": {
   "display_name": "Python 3 (ipykernel)",
   "language": "python",
   "name": "python3"
  },
  "language_info": {
   "codemirror_mode": {
    "name": "ipython",
    "version": 3
   },
   "file_extension": ".py",
   "mimetype": "text/x-python",
   "name": "python",
   "nbconvert_exporter": "python",
   "pygments_lexer": "ipython3",
   "version": "3.12.4"
  }
 },
 "nbformat": 4,
 "nbformat_minor": 5
}
